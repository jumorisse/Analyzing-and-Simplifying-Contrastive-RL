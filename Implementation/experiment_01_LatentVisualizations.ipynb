{
  "cells": [
    {
      "cell_type": "markdown",
      "metadata": {
        "id": "8HtJlURXBPC_"
      },
      "source": [
        "# Visualization of Contrastive Latent Space\n",
        "We will visualize the contrastive latent space for all states of a simple, discrete environment to:\n",
        "- analyze whether the learned representations actually encode actionable distances, potentially motivate 2nd experiment\n",
        "- compare how the latent space compares to the optimal latent space (possible despite dimension reduction effects?)\n",
        "-\n",
        "\n",
        "For now, we will run this experiment on the Spiral11x11 environment because it is already available in the contrastive RL repo."
      ]
    },
    {
      "cell_type": "code",
      "execution_count": null,
      "metadata": {},
      "outputs": [],
      "source": [
        "%env LD_LIBRARY_PATH=/home/jmorisse/miniconda3/envs/contrastive_xps/lib\n",
        "%env LD_LIBRARY_PATH=$LD_LIBRARY_PATH:/home/jmorisse/.mujoco/mujoco200/bin\n",
        "%env LD_PRELOAD=/usr/lib/x86_64-linux-gnu/libffi.so.7"
      ]
    },
    {
      "cell_type": "code",
      "execution_count": null,
      "metadata": {},
      "outputs": [],
      "source": [
        "import os\n",
        "os.environ[\"LD_LIBRARY_PATH\"] = \"/home/jmorisse/miniconda3/envs/contrastive_xps/lib\"\n",
        "#os.environ[\"LD_LIBRARY_PATH\"] = os.environ[\"LD_LIBRARY_PATH\"] + \":/home/jmorisse/.mujoco/mujoco200/bin\"\n",
        "#os.environ[\"LD_PRELOAD\"] = \"/usr/lib/x86_64-linux-gnu/libffi.so.7\""
      ]
    },
    {
      "cell_type": "code",
      "execution_count": 1,
      "metadata": {},
      "outputs": [
        {
          "ename": "ImportError",
          "evalue": "libpython3.9.so.1.0: cannot open shared object file: No such file or directory",
          "output_type": "error",
          "traceback": [
            "\u001b[0;31m---------------------------------------------------------------------------\u001b[0m",
            "\u001b[0;31mImportError\u001b[0m                               Traceback (most recent call last)",
            "Cell \u001b[0;32mIn[1], line 1\u001b[0m\n\u001b[0;32m----> 1\u001b[0m \u001b[38;5;28;01mimport\u001b[39;00m \u001b[38;5;21;01mexperiment_utils\u001b[39;00m \u001b[38;5;28;01mas\u001b[39;00m \u001b[38;5;21;01mutils\u001b[39;00m\n",
            "File \u001b[0;32m~/Desktop/Master Thesis/google-research/contrastive_rl/experiment_utils.py:11\u001b[0m\n\u001b[1;32m      9\u001b[0m \u001b[38;5;28;01mimport\u001b[39;00m \u001b[38;5;21;01mtorch\u001b[39;00m\n\u001b[1;32m     10\u001b[0m \u001b[38;5;28;01mfrom\u001b[39;00m \u001b[38;5;21;01mtorch\u001b[39;00m \u001b[38;5;28;01mimport\u001b[39;00m nn\n\u001b[0;32m---> 11\u001b[0m \u001b[38;5;28;01mfrom\u001b[39;00m \u001b[38;5;21;01mcontrastive\u001b[39;00m \u001b[38;5;28;01mimport\u001b[39;00m utils \u001b[38;5;28;01mas\u001b[39;00m contrastive_utils\n\u001b[1;32m     13\u001b[0m \u001b[38;5;28;01mdef\u001b[39;00m \u001b[38;5;21minspect_params\u001b[39m(params_path):\n\u001b[1;32m     14\u001b[0m     \u001b[38;5;66;03m# load parameter dict\u001b[39;00m\n\u001b[1;32m     15\u001b[0m     \u001b[38;5;28;01mwith\u001b[39;00m \u001b[38;5;28mopen\u001b[39m(params_path, \u001b[38;5;124m\"\u001b[39m\u001b[38;5;124mr\u001b[39m\u001b[38;5;124m\"\u001b[39m) \u001b[38;5;28;01mas\u001b[39;00m f:\n\u001b[1;32m     16\u001b[0m         \u001b[38;5;66;03m# read raw string and replace single quotes with double quotes\u001b[39;00m\n",
            "File \u001b[0;32m~/Desktop/Master Thesis/google-research/contrastive_rl/contrastive/__init__.py:18\u001b[0m\n\u001b[1;32m      1\u001b[0m \u001b[38;5;66;03m# coding=utf-8\u001b[39;00m\n\u001b[1;32m      2\u001b[0m \u001b[38;5;66;03m# Copyright 2024 The Google Research Authors.\u001b[39;00m\n\u001b[1;32m      3\u001b[0m \u001b[38;5;66;03m#\u001b[39;00m\n\u001b[0;32m   (...)\u001b[0m\n\u001b[1;32m     13\u001b[0m \u001b[38;5;66;03m# See the License for the specific language governing permissions and\u001b[39;00m\n\u001b[1;32m     14\u001b[0m \u001b[38;5;66;03m# limitations under the License.\u001b[39;00m\n\u001b[1;32m     16\u001b[0m \u001b[38;5;124;03m\"\"\"Contrastive RL agent.\"\"\"\u001b[39;00m\n\u001b[0;32m---> 18\u001b[0m \u001b[38;5;28;01mfrom\u001b[39;00m \u001b[38;5;21;01mcontrastive\u001b[39;00m\u001b[38;5;21;01m.\u001b[39;00m\u001b[38;5;21;01magents\u001b[39;00m \u001b[38;5;28;01mimport\u001b[39;00m DistributedContrastive\n\u001b[1;32m     19\u001b[0m \u001b[38;5;28;01mfrom\u001b[39;00m \u001b[38;5;21;01mcontrastive\u001b[39;00m\u001b[38;5;21;01m.\u001b[39;00m\u001b[38;5;21;01mbuilder\u001b[39;00m \u001b[38;5;28;01mimport\u001b[39;00m ContrastiveBuilder\n\u001b[1;32m     20\u001b[0m \u001b[38;5;28;01mfrom\u001b[39;00m \u001b[38;5;21;01mcontrastive\u001b[39;00m\u001b[38;5;21;01m.\u001b[39;00m\u001b[38;5;21;01mconfig\u001b[39;00m \u001b[38;5;28;01mimport\u001b[39;00m ContrastiveConfig\n",
            "File \u001b[0;32m~/Desktop/Master Thesis/google-research/contrastive_rl/contrastive/agents.py:21\u001b[0m\n\u001b[1;32m     18\u001b[0m \u001b[38;5;28;01mimport\u001b[39;00m \u001b[38;5;21;01mfunctools\u001b[39;00m\n\u001b[1;32m     19\u001b[0m \u001b[38;5;28;01mfrom\u001b[39;00m \u001b[38;5;21;01mtyping\u001b[39;00m \u001b[38;5;28;01mimport\u001b[39;00m Callable, Optional, Sequence\n\u001b[0;32m---> 21\u001b[0m \u001b[38;5;28;01mfrom\u001b[39;00m \u001b[38;5;21;01macme\u001b[39;00m \u001b[38;5;28;01mimport\u001b[39;00m specs\n\u001b[1;32m     22\u001b[0m \u001b[38;5;28;01mfrom\u001b[39;00m \u001b[38;5;21;01macme\u001b[39;00m\u001b[38;5;21;01m.\u001b[39;00m\u001b[38;5;21;01mjax\u001b[39;00m \u001b[38;5;28;01mimport\u001b[39;00m utils\n\u001b[1;32m     23\u001b[0m \u001b[38;5;28;01mfrom\u001b[39;00m \u001b[38;5;21;01macme\u001b[39;00m\u001b[38;5;21;01m.\u001b[39;00m\u001b[38;5;21;01mutils\u001b[39;00m \u001b[38;5;28;01mimport\u001b[39;00m loggers\n",
            "File \u001b[0;32m~/miniconda3/envs/contrastive_xps/lib/python3.9/site-packages/acme/__init__.py:35\u001b[0m\n\u001b[1;32m     32\u001b[0m \u001b[38;5;28;01mfrom\u001b[39;00m \u001b[38;5;21;01macme\u001b[39;00m\u001b[38;5;21;01m.\u001b[39;00m\u001b[38;5;21;01mcore\u001b[39;00m \u001b[38;5;28;01mimport\u001b[39;00m Worker\n\u001b[1;32m     34\u001b[0m \u001b[38;5;66;03m# Expose the environment loop.\u001b[39;00m\n\u001b[0;32m---> 35\u001b[0m \u001b[38;5;28;01mfrom\u001b[39;00m \u001b[38;5;21;01macme\u001b[39;00m\u001b[38;5;21;01m.\u001b[39;00m\u001b[38;5;21;01menvironment_loop\u001b[39;00m \u001b[38;5;28;01mimport\u001b[39;00m EnvironmentLoop\n\u001b[1;32m     37\u001b[0m \u001b[38;5;28;01mfrom\u001b[39;00m \u001b[38;5;21;01macme\u001b[39;00m\u001b[38;5;21;01m.\u001b[39;00m\u001b[38;5;21;01mspecs\u001b[39;00m \u001b[38;5;28;01mimport\u001b[39;00m make_environment_spec\n\u001b[1;32m     39\u001b[0m \u001b[38;5;66;03m# Acme loves you.\u001b[39;00m\n",
            "File \u001b[0;32m~/miniconda3/envs/contrastive_xps/lib/python3.9/site-packages/acme/environment_loop.py:26\u001b[0m\n\u001b[1;32m     24\u001b[0m \u001b[38;5;28;01mfrom\u001b[39;00m \u001b[38;5;21;01macme\u001b[39;00m\u001b[38;5;21;01m.\u001b[39;00m\u001b[38;5;21;01mutils\u001b[39;00m \u001b[38;5;28;01mimport\u001b[39;00m loggers\n\u001b[1;32m     25\u001b[0m \u001b[38;5;28;01mfrom\u001b[39;00m \u001b[38;5;21;01macme\u001b[39;00m\u001b[38;5;21;01m.\u001b[39;00m\u001b[38;5;21;01mutils\u001b[39;00m \u001b[38;5;28;01mimport\u001b[39;00m observers \u001b[38;5;28;01mas\u001b[39;00m observers_lib\n\u001b[0;32m---> 26\u001b[0m \u001b[38;5;28;01mfrom\u001b[39;00m \u001b[38;5;21;01macme\u001b[39;00m\u001b[38;5;21;01m.\u001b[39;00m\u001b[38;5;21;01mutils\u001b[39;00m \u001b[38;5;28;01mimport\u001b[39;00m signals\n\u001b[1;32m     28\u001b[0m \u001b[38;5;28;01mimport\u001b[39;00m \u001b[38;5;21;01mdm_env\u001b[39;00m\n\u001b[1;32m     29\u001b[0m \u001b[38;5;28;01mfrom\u001b[39;00m \u001b[38;5;21;01mdm_env\u001b[39;00m \u001b[38;5;28;01mimport\u001b[39;00m specs\n",
            "File \u001b[0;32m~/miniconda3/envs/contrastive_xps/lib/python3.9/site-packages/acme/utils/signals.py:22\u001b[0m\n\u001b[1;32m     19\u001b[0m \u001b[38;5;28;01mimport\u001b[39;00m \u001b[38;5;21;01mthreading\u001b[39;00m\n\u001b[1;32m     20\u001b[0m \u001b[38;5;28;01mfrom\u001b[39;00m \u001b[38;5;21;01mtyping\u001b[39;00m \u001b[38;5;28;01mimport\u001b[39;00m Any, Callable, Optional\n\u001b[0;32m---> 22\u001b[0m \u001b[38;5;28;01mimport\u001b[39;00m \u001b[38;5;21;01mlaunchpad\u001b[39;00m\n\u001b[1;32m     24\u001b[0m _Handler \u001b[38;5;241m=\u001b[39m Callable[[], Any]\n\u001b[1;32m     27\u001b[0m \u001b[38;5;129m@contextlib\u001b[39m\u001b[38;5;241m.\u001b[39mcontextmanager\n\u001b[1;32m     28\u001b[0m \u001b[38;5;28;01mdef\u001b[39;00m \u001b[38;5;21mruntime_terminator\u001b[39m(callback: Optional[_Handler] \u001b[38;5;241m=\u001b[39m \u001b[38;5;28;01mNone\u001b[39;00m):\n",
            "File \u001b[0;32m~/miniconda3/envs/contrastive_xps/lib/python3.9/site-packages/launchpad/__init__.py:36\u001b[0m\n\u001b[1;32m     33\u001b[0m \u001b[38;5;28;01mfrom\u001b[39;00m \u001b[38;5;21;01mlaunchpad\u001b[39;00m\u001b[38;5;21;01m.\u001b[39;00m\u001b[38;5;21;01mlaunch\u001b[39;00m\u001b[38;5;21;01m.\u001b[39;00m\u001b[38;5;21;01mlaunch\u001b[39;00m \u001b[38;5;28;01mimport\u001b[39;00m launch\n\u001b[1;32m     35\u001b[0m \u001b[38;5;66;03m# Nodes\u001b[39;00m\n\u001b[0;32m---> 36\u001b[0m \u001b[38;5;28;01mfrom\u001b[39;00m \u001b[38;5;21;01mlaunchpad\u001b[39;00m\u001b[38;5;21;01m.\u001b[39;00m\u001b[38;5;21;01mnodes\u001b[39;00m\u001b[38;5;21;01m.\u001b[39;00m\u001b[38;5;21;01mcourier\u001b[39;00m\u001b[38;5;21;01m.\u001b[39;00m\u001b[38;5;21;01mnode\u001b[39;00m \u001b[38;5;28;01mimport\u001b[39;00m CourierHandle\n\u001b[1;32m     37\u001b[0m \u001b[38;5;28;01mfrom\u001b[39;00m \u001b[38;5;21;01mlaunchpad\u001b[39;00m\u001b[38;5;21;01m.\u001b[39;00m\u001b[38;5;21;01mnodes\u001b[39;00m\u001b[38;5;21;01m.\u001b[39;00m\u001b[38;5;21;01mcourier\u001b[39;00m\u001b[38;5;21;01m.\u001b[39;00m\u001b[38;5;21;01mnode\u001b[39;00m \u001b[38;5;28;01mimport\u001b[39;00m CourierNode\n\u001b[1;32m     38\u001b[0m \u001b[38;5;28;01mfrom\u001b[39;00m \u001b[38;5;21;01mlaunchpad\u001b[39;00m\u001b[38;5;21;01m.\u001b[39;00m\u001b[38;5;21;01mnodes\u001b[39;00m\u001b[38;5;21;01m.\u001b[39;00m\u001b[38;5;21;01mcourier\u001b[39;00m\u001b[38;5;21;01m.\u001b[39;00m\u001b[38;5;21;01mnode\u001b[39;00m \u001b[38;5;28;01mimport\u001b[39;00m CourierClient\n",
            "File \u001b[0;32m~/miniconda3/envs/contrastive_xps/lib/python3.9/site-packages/launchpad/nodes/courier/node.py:21\u001b[0m\n\u001b[1;32m     18\u001b[0m \u001b[38;5;28;01mfrom\u001b[39;00m \u001b[38;5;21;01mtyping\u001b[39;00m \u001b[38;5;28;01mimport\u001b[39;00m Callable, Generic, TypeVar\n\u001b[1;32m     20\u001b[0m \u001b[38;5;28;01mfrom\u001b[39;00m \u001b[38;5;21;01mabsl\u001b[39;00m \u001b[38;5;28;01mimport\u001b[39;00m logging\n\u001b[0;32m---> 21\u001b[0m \u001b[38;5;28;01mimport\u001b[39;00m \u001b[38;5;21;01mcourier\u001b[39;00m\n\u001b[1;32m     22\u001b[0m \u001b[38;5;28;01mfrom\u001b[39;00m \u001b[38;5;21;01mlaunchpad\u001b[39;00m \u001b[38;5;28;01mimport\u001b[39;00m address \u001b[38;5;28;01mas\u001b[39;00m lp_address\n\u001b[1;32m     23\u001b[0m \u001b[38;5;28;01mfrom\u001b[39;00m \u001b[38;5;21;01mlaunchpad\u001b[39;00m\u001b[38;5;21;01m.\u001b[39;00m\u001b[38;5;21;01mlaunch\u001b[39;00m \u001b[38;5;28;01mimport\u001b[39;00m worker_manager\n",
            "File \u001b[0;32m~/miniconda3/envs/contrastive_xps/lib/python3.9/site-packages/courier/__init__.py:26\u001b[0m\n\u001b[1;32m     11\u001b[0m \u001b[38;5;66;03m# Copyright 2020 DeepMind Technologies Limited. All rights reserved.\u001b[39;00m\n\u001b[1;32m     12\u001b[0m \u001b[38;5;66;03m#\u001b[39;00m\n\u001b[1;32m     13\u001b[0m \u001b[38;5;66;03m# Licensed under the Apache License, Version 2.0 (the \"License\");\u001b[39;00m\n\u001b[0;32m   (...)\u001b[0m\n\u001b[1;32m     22\u001b[0m \u001b[38;5;66;03m# See the License for the specific language governing permissions and\u001b[39;00m\n\u001b[1;32m     23\u001b[0m \u001b[38;5;66;03m# limitations under the License.\u001b[39;00m\n\u001b[1;32m     25\u001b[0m \u001b[38;5;124;03m\"\"\"Courier module.\"\"\"\u001b[39;00m\n\u001b[0;32m---> 26\u001b[0m \u001b[38;5;28;01mfrom\u001b[39;00m \u001b[38;5;21;01mcourier\u001b[39;00m\u001b[38;5;21;01m.\u001b[39;00m\u001b[38;5;21;01mpython\u001b[39;00m\u001b[38;5;21;01m.\u001b[39;00m\u001b[38;5;21;01mclient\u001b[39;00m \u001b[38;5;28;01mimport\u001b[39;00m Client  \u001b[38;5;66;03m# pytype: disable=import-error\u001b[39;00m\n\u001b[1;32m     27\u001b[0m \u001b[38;5;28;01mfrom\u001b[39;00m \u001b[38;5;21;01mcourier\u001b[39;00m\u001b[38;5;21;01m.\u001b[39;00m\u001b[38;5;21;01mpython\u001b[39;00m\u001b[38;5;21;01m.\u001b[39;00m\u001b[38;5;21;01mclient\u001b[39;00m \u001b[38;5;28;01mimport\u001b[39;00m list_methods  \u001b[38;5;66;03m# pytype: disable=import-error\u001b[39;00m\n\u001b[1;32m     28\u001b[0m \u001b[38;5;28;01mfrom\u001b[39;00m \u001b[38;5;21;01mcourier\u001b[39;00m\u001b[38;5;21;01m.\u001b[39;00m\u001b[38;5;21;01mpython\u001b[39;00m\u001b[38;5;21;01m.\u001b[39;00m\u001b[38;5;21;01mpy_server\u001b[39;00m \u001b[38;5;28;01mimport\u001b[39;00m Server  \u001b[38;5;66;03m# pytype: disable=import-error\u001b[39;00m\n",
            "File \u001b[0;32m~/miniconda3/envs/contrastive_xps/lib/python3.9/site-packages/courier/python/client.py:30\u001b[0m\n\u001b[1;32m     27\u001b[0m \u001b[38;5;28;01mimport\u001b[39;00m \u001b[38;5;21;01mdatetime\u001b[39;00m\n\u001b[1;32m     28\u001b[0m \u001b[38;5;28;01mfrom\u001b[39;00m \u001b[38;5;21;01mtyping\u001b[39;00m \u001b[38;5;28;01mimport\u001b[39;00m List, Optional, Union\n\u001b[0;32m---> 30\u001b[0m \u001b[38;5;28;01mfrom\u001b[39;00m \u001b[38;5;21;01mcourier\u001b[39;00m\u001b[38;5;21;01m.\u001b[39;00m\u001b[38;5;21;01mpython\u001b[39;00m \u001b[38;5;28;01mimport\u001b[39;00m py_client\n\u001b[1;32m     31\u001b[0m \u001b[38;5;66;03m# Numpy import needed for proper operation of ../serialization/py_serialize.cc\u001b[39;00m\n\u001b[1;32m     32\u001b[0m \u001b[38;5;28;01mimport\u001b[39;00m \u001b[38;5;21;01mnumpy\u001b[39;00m  \n",
            "\u001b[0;31mImportError\u001b[0m: libpython3.9.so.1.0: cannot open shared object file: No such file or directory"
          ]
        }
      ],
      "source": [
        "import experiment_utils as utils"
      ]
    },
    {
      "cell_type": "markdown",
      "metadata": {
        "id": "8bzryaY0APLA"
      },
      "source": [
        "## Loading SA-, G-Encoder, and Actor\n",
        "After running the contrastive RL, we save the critic and actor weights. From these weights, we now reconstruct the different elements needed for this experiment, i.e. the SA-encoder, the G-encoder, and the Actor."
      ]
    },
    {
      "cell_type": "code",
      "execution_count": null,
      "metadata": {
        "id": "nf5jUadkAOBX"
      },
      "outputs": [],
      "source": [
        "env = \"point_Spiral11x11\"\n",
        "sa_encoder, g_encoder = utils.load_encoders(env)"
      ]
    },
    {
      "cell_type": "markdown",
      "metadata": {
        "id": "gPz6om5dAiJx"
      },
      "source": [
        "## Loading Environment and States\n",
        "We load the environment and extract all of its states.\n",
        "Additionally, we define which state serves as a goal during our analysis.\n",
        "\n",
        "To allow for an interpretable representation, we also compute the distance (in steps to reach) to the goal for all states."
      ]
    },
    {
      "cell_type": "code",
      "execution_count": null,
      "metadata": {},
      "outputs": [],
      "source": [
        "env = utils.get_env(env)"
      ]
    },
    {
      "cell_type": "code",
      "execution_count": null,
      "metadata": {
        "id": "zavQRopyBWON"
      },
      "outputs": [],
      "source": [
        "states = utils.sample_env_states(env, n=250)\n",
        "# manually defined goal (e.g. end of maze/spiral)\n",
        "man_goal = utils.get_man_goal(env)\n",
        "# sampled goal\n",
        "sample_goal = None\n",
        "\n",
        "man_goal_distances = utils.compute_distances(env, states, man_goal)\n",
        "sample_goal_distances = utils.compute_distances(env, states, sample_goal)"
      ]
    },
    {
      "cell_type": "markdown",
      "metadata": {
        "id": "SxQ-cFcyAsxz"
      },
      "source": [
        "## Embedding State-Action Pairs\n",
        "Next, we use the SA-encoder to produce representations for all states. Since the encoder requries state-action pairs, we will use action (0,0)."
      ]
    },
    {
      "cell_type": "code",
      "execution_count": null,
      "metadata": {
        "id": "6Kpi5h9WBWzL"
      },
      "outputs": [],
      "source": [
        "sa_encodings = utils.get_sa_encodings(sa_encoder, states, (0,0))"
      ]
    },
    {
      "cell_type": "markdown",
      "metadata": {
        "id": "EDt2eCzOA9I_"
      },
      "source": [
        "## Dimension Reduction of Embeddings\n",
        "Since we want to visualize the contrastive latent space, we need to map it to a 2d space. This is done by applying TSNE dimension reduction to all representations."
      ]
    },
    {
      "cell_type": "markdown",
      "metadata": {
        "id": "Omj2nm0xBB4a"
      },
      "source": [
        "Visualization of Embeddings"
      ]
    },
    {
      "cell_type": "code",
      "execution_count": null,
      "metadata": {
        "id": "_krDFK13BXYa"
      },
      "outputs": [],
      "source": []
    },
    {
      "cell_type": "markdown",
      "metadata": {
        "id": "mavYvngMNBRe"
      },
      "source": [
        "## Correlation Between Actual Distances and Representation Distances\n",
        "Since we have for each state the actual distance to the goal and the distance between the state and goal representation, we can now also compute the correlation between those two measures to get an understanding of how well representation distances correspond to actual distances."
      ]
    },
    {
      "cell_type": "code",
      "execution_count": null,
      "metadata": {
        "id": "0yF5Rj1tNXEW"
      },
      "outputs": [],
      "source": []
    },
    {
      "cell_type": "markdown",
      "metadata": {
        "id": "7KhOgEO3BGzo"
      },
      "source": [
        "# Comparison of State-Action and Goal Encoder\n",
        "The contrastive RL approach trains two encoders, one to encode state-action pairs (required to estimate Q-values for different actions) and one to encode only states/goals. This raises the question of how these two encoders relate to each other. This experiment aims to investigate this relation by comparing all representations possible for a single state, i.e. all state-action representations and its state representation.\n"
      ]
    },
    {
      "cell_type": "markdown",
      "metadata": {
        "id": "l08RHXnsBVEu"
      },
      "source": [
        "## Loading State-Action (SA) Encoder and Goal (G) Encoder"
      ]
    },
    {
      "cell_type": "code",
      "execution_count": null,
      "metadata": {
        "id": "EplfbFauBgvf"
      },
      "outputs": [],
      "source": []
    },
    {
      "cell_type": "markdown",
      "metadata": {
        "id": "mxgso829BhkV"
      },
      "source": [
        "## Loading Environment"
      ]
    },
    {
      "cell_type": "code",
      "execution_count": null,
      "metadata": {
        "id": "VhB_FewuKTOw"
      },
      "outputs": [],
      "source": []
    },
    {
      "cell_type": "markdown",
      "metadata": {
        "id": "6QXsB3n_Bj8G"
      },
      "source": [
        "## Producing Embeddings"
      ]
    },
    {
      "cell_type": "code",
      "execution_count": null,
      "metadata": {
        "id": "mUfCe1-4KVEa"
      },
      "outputs": [],
      "source": []
    },
    {
      "cell_type": "markdown",
      "metadata": {
        "id": "AbAuCGyMBmpM"
      },
      "source": [
        "## Dimension Reduction"
      ]
    },
    {
      "cell_type": "code",
      "execution_count": null,
      "metadata": {
        "id": "JOxnAoULKWNr"
      },
      "outputs": [],
      "source": []
    },
    {
      "cell_type": "markdown",
      "metadata": {
        "id": "MneRiUC9Boui"
      },
      "source": [
        "## Visualization\n"
      ]
    },
    {
      "cell_type": "code",
      "execution_count": null,
      "metadata": {
        "id": "8KEj_CU1KW4L"
      },
      "outputs": [],
      "source": []
    },
    {
      "cell_type": "markdown",
      "metadata": {
        "id": "rjYtiQDhKXu8"
      },
      "source": [
        "# Limiting Representation Dimension to 2\n",
        "In the previous experiments, we had to use dimensionality reduction to visualize encodings. Since this can affect the relations between representations, it would be better to skip this step and directly learn 2d representations.\n",
        "\n",
        "However, the question is if 2 latent dimensions are sufficient for successful contrastive RL."
      ]
    },
    {
      "cell_type": "markdown",
      "metadata": {
        "id": "sYpUx_ybK-oA"
      },
      "source": [
        "## Running the contrastive RL with Representations Limited to 2 Dimensions"
      ]
    },
    {
      "cell_type": "code",
      "execution_count": null,
      "metadata": {
        "id": "gdy3Kq9pLFA8"
      },
      "outputs": [],
      "source": []
    }
  ],
  "metadata": {
    "colab": {
      "provenance": []
    },
    "kernelspec": {
      "display_name": "Python 3",
      "name": "python3"
    },
    "language_info": {
      "codemirror_mode": {
        "name": "ipython",
        "version": 3
      },
      "file_extension": ".py",
      "mimetype": "text/x-python",
      "name": "python",
      "nbconvert_exporter": "python",
      "pygments_lexer": "ipython3",
      "version": "3.9.18"
    }
  },
  "nbformat": 4,
  "nbformat_minor": 0
}
